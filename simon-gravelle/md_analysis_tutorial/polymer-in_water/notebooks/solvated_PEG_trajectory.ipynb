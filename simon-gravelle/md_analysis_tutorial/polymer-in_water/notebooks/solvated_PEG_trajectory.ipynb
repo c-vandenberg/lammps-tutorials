{
 "cells": [
  {
   "cell_type": "code",
   "execution_count": 1,
   "id": "a543cb92-c304-4506-b317-121e80b9cea8",
   "metadata": {},
   "outputs": [],
   "source": [
    "import MDAnalysis as md_analysis\n",
    "import numpy\n",
    "import matplotlib.pyplot as pyplot\n",
    "from mpl_toolkits.mplot3d import Axes3D"
   ]
  },
  {
   "cell_type": "markdown",
   "id": "f2afe24a-6800-4741-bb43-7e41363887e7",
   "metadata": {},
   "source": [
    "## MDAnalysis Universe Class\n",
    "* The MDAnalysis Universe class contains all the information describing the system.\n",
    "* There are no required constructor arguments, but to generating a universe will generally require a topology file containing atomic information (in this case `./solvated_PEG.data`), and optionally an MD simulation trajactory/coordinate file (in this case `./solvated_PEG_dump.lammpstrj`)\n",
    "* However, some topology files can contain both atomic information **and** coordinate data (e.g. XYZ, PDB, GRO or CRD files)\n",
    "* Additionally, any file you provide you need to add an additional constructor argument for the file format"
   ]
  },
  {
   "cell_type": "code",
   "execution_count": 2,
   "id": "9e0e68c8-4887-4622-a0f7-c2d9be8513ed",
   "metadata": {},
   "outputs": [],
   "source": [
    "md_universe: md_analysis.Universe = md_analysis.Universe(\n",
    "    \"../solvated_PEG.data\", \n",
    "    \"../solvated_PEG_dump.lammpstrj\", \n",
    "    topology_format = \"data\",\n",
    "    format = \"lammpsdump\"\n",
    ")"
   ]
  },
  {
   "cell_type": "markdown",
   "id": "f570ee5f-3c00-4828-9755-424b6b635400",
   "metadata": {},
   "source": [
    "# MD Analysis Universe.select_atoms and AtomGroup Class\n",
    "* The method `Universe.select_atoms` returns an AtomGroup object\n",
    "* The AtomGroup class is essentially an ordered array of atoms, with their order reflecting their order defined in the molecular topology file\n",
    "* It therefore supports looping, indexing & slicing like a standard Python list\n",
    "* Additionally, the class has properties representing coordinates, velocities, masses, charges, atom names, residues etc\n",
    "* It also has methods for calculating properties such as distances, angles, dihedrals, center of mass, as well as methods for atomic transformation & manipulation such as translation, rotation etc"
   ]
  },
  {
   "cell_type": "code",
   "execution_count": 3,
   "id": "ae89f5f7-d345-4377-b8ab-c44622ee5be9",
   "metadata": {},
   "outputs": [
    {
     "name": "stdout",
     "output_type": "stream",
     "text": [
      "Atoms in PEG molecule: 101\n",
      "Atoms in H2O molecule: 2991\n"
     ]
    }
   ],
   "source": [
    "peg_molecule = md_universe.select_atoms(\"type 1 2 3 4 5 6 7\")\n",
    "h2o_molecule = md_universe.select_atoms(\"type 8 9\")\n",
    "\n",
    "print(\"Atoms in PEG molecule:\", peg_molecule.atoms.n_atoms)\n",
    "print(\"Atoms in H2O molecule:\", h2o_molecule.atoms.n_atoms)"
   ]
  },
  {
   "cell_type": "code",
   "execution_count": 4,
   "id": "c029103f-5eae-4c4e-a271-ff8a195ae619",
   "metadata": {},
   "outputs": [
    {
     "name": "stdout",
     "output_type": "stream",
     "text": [
      "Atom ID: 3151 | Atom Type: 4 | Atomic Mass: 1.008 g/mol | Atomic Charge: 0.21 e\n",
      "Atom ID: 3152 | Atom Type: 6 | Atomic Mass: 15.9994 g/mol | Atomic Charge: -0.33 e\n",
      "Atom ID: 3153 | Atom Type: 5 | Atomic Mass: 12.011 g/mol | Atomic Charge: -0.02 e\n",
      "Atom ID: 3154 | Atom Type: 3 | Atomic Mass: 1.008 g/mol | Atomic Charge: 0.09 e\n",
      "Atom ID: 3155 | Atom Type: 3 | Atomic Mass: 1.008 g/mol | Atomic Charge: 0.09 e\n",
      "Atom ID: 3156 | Atom Type: 2 | Atomic Mass: 12.011 g/mol | Atomic Charge: -0.06 e\n"
     ]
    }
   ],
   "source": [
    "for atom in peg_molecule[:6]:\n",
    "    atom_id: int = atom.id\n",
    "    atom_type: str = atom.type\n",
    "    atomic_mass: float = atom.mass\n",
    "    atomic_charge: float = numpy.round(atom.charge, 2)\n",
    "    print(\"Atom ID:\", atom_id, \"|\", \n",
    "          \"Atom Type:\", atom_type, \"|\", \n",
    "          \"Atomic Mass:\", atomic_mass, \"g/mol | Atomic Charge:\", atomic_charge, \"e\")"
   ]
  },
  {
   "cell_type": "markdown",
   "id": "d3c98699-8949-426d-b7c4-a562ce85b34c",
   "metadata": {},
   "source": [
    "# Extract Temporal Evolution of Hydrogen Type 4 Atom (First Atom in PEG Group)\n",
    "* We will now extract the position of the first atom of the peg group (i.e. the hydrogen type 4 atom), over all 300 frames, and store its coordinates in each timestep frame into a list\n",
    "* We will then use Matplotlib Pyplot to visualise the x and y coordinates occupied by the hydrogen type 4 atom during the equilibration simulation"
   ]
  },
  {
   "cell_type": "code",
   "execution_count": 5,
   "id": "b8a9536c-d6d4-44ac-92bf-83be934a0bd6",
   "metadata": {},
   "outputs": [
    {
     "ename": "NameError",
     "evalue": "name 'peg_hydrogen_atom_4_traj' is not defined",
     "output_type": "error",
     "traceback": [
      "\u001b[0;31m---------------------------------------------------------------------------\u001b[0m",
      "\u001b[0;31mNameError\u001b[0m                                 Traceback (most recent call last)",
      "Cell \u001b[0;32mIn[5], line 10\u001b[0m\n\u001b[1;32m      7\u001b[0m     position_vs_time\u001b[38;5;241m.\u001b[39mappend({\u001b[38;5;124m'\u001b[39m\u001b[38;5;124mtimestep\u001b[39m\u001b[38;5;124m'\u001b[39m: timestep\u001b[38;5;241m.\u001b[39mframe, \u001b[38;5;124m'\u001b[39m\u001b[38;5;124mx\u001b[39m\u001b[38;5;124m'\u001b[39m: x, \u001b[38;5;124m'\u001b[39m\u001b[38;5;124my\u001b[39m\u001b[38;5;124m'\u001b[39m: y, \u001b[38;5;124m'\u001b[39m\u001b[38;5;124mz\u001b[39m\u001b[38;5;124m'\u001b[39m: z})  \u001b[38;5;66;03m# timestep.frame is the ID of the timestep frame\u001b[39;00m\n\u001b[1;32m      9\u001b[0m \u001b[38;5;66;03m# Extract timestep frames and x, y & z coordinates\u001b[39;00m\n\u001b[0;32m---> 10\u001b[0m timestep_frames: \u001b[38;5;28mlist\u001b[39m \u001b[38;5;241m=\u001b[39m [position[\u001b[38;5;124m'\u001b[39m\u001b[38;5;124mtimestep\u001b[39m\u001b[38;5;124m'\u001b[39m] \u001b[38;5;28;01mfor\u001b[39;00m position \u001b[38;5;129;01min\u001b[39;00m \u001b[43mpeg_hydrogen_atom_4_traj\u001b[49m]\n\u001b[1;32m     11\u001b[0m x_coordinates: \u001b[38;5;28mlist\u001b[39m \u001b[38;5;241m=\u001b[39m [position[\u001b[38;5;124m'\u001b[39m\u001b[38;5;124mx\u001b[39m\u001b[38;5;124m'\u001b[39m] \u001b[38;5;28;01mfor\u001b[39;00m position \u001b[38;5;129;01min\u001b[39;00m peg_hydrogen_atom_4_traj]\n\u001b[1;32m     12\u001b[0m y_coordinates: \u001b[38;5;28mlist\u001b[39m \u001b[38;5;241m=\u001b[39m [position[\u001b[38;5;124m'\u001b[39m\u001b[38;5;124my\u001b[39m\u001b[38;5;124m'\u001b[39m] \u001b[38;5;28;01mfor\u001b[39;00m position \u001b[38;5;129;01min\u001b[39;00m peg_hydrogen_atom_4_traj]\n",
      "\u001b[0;31mNameError\u001b[0m: name 'peg_hydrogen_atom_4_traj' is not defined"
     ]
    }
   ],
   "source": [
    "hydrogen_atom_4: md_analysis.AtomGroup = peg_molecule[0]\n",
    "position_vs_time: list = []\n",
    "scatter_plot_size: list = []\n",
    "\n",
    "for timestep in md_universe.trajectory:\n",
    "    x, y, z = hydrogen_atom_4.position\n",
    "    position_vs_time.append({'timestep': timestep.frame, 'x': x, 'y': y, 'z': z})  # timestep.frame is the ID of the timestep frame\n",
    "\n",
    "# Extract timestep frames and x, y & z coordinates\n",
    "timestep_frames: list = [position['timestep'] for position in position_vs_time]\n",
    "x_coordinates: list = [position['x'] for position in position_vs_time]\n",
    "y_coordinates: list = [position['y'] for position in position_vs_time]\n",
    "z_coordinates: list = [position['z'] for position in position_vs_time]\n",
    "\n",
    "# Create graph\n",
    "two_d_figure, two_d_axes = pyplot.subplots(figsize=(10, 6))\n",
    "\n",
    "# Stylise & plot the x and y coordinates using Matplotlib\n",
    "two_d_figure.patch.set_facecolor('black')\n",
    "two_d_axes.set_facecolor('black')\n",
    "two_d_axes.scatter(x_coordinates, y_coordinates, c='cyan', marker='o', alpha=0.6)\n",
    "two_d_axes.set_ylim(12, two_d_axes.get_ylim()[1])\n",
    "\n",
    "pyplot.title('X and Y Coordinates of Hydrogen Atom 4 During Equilibration', color='white')\n",
    "pyplot.xlabel('x (Å)', color='white')\n",
    "pyplot.ylabel('y (Å)', color='white')\n",
    "two_d_axes.tick_params(colors='white', which='both')\n",
    "\n",
    "for spine in two_d_axes.spines.values():\n",
    "    spine.set_edgecolor('white')\n",
    "\n",
    "pyplot.show()"
   ]
  },
  {
   "cell_type": "code",
   "execution_count": null,
   "id": "cc470c6d-da0d-4ff9-93db-1aa89a1d27c1",
   "metadata": {},
   "outputs": [],
   "source": [
    "three_d_figure: pyplot.Figure = pyplot.figure(figsize=(10, 6))\n",
    "three_d_axes: pyplot.Axes = three_d_figure.add_subplot(111, projection='3d')\n",
    "\n",
    "three_dimension_scatter = three_d_axes.scatter(\n",
    "    x_coordinates, \n",
    "    y_coordinates, \n",
    "    z_coordinates, \n",
    "    c=timestep_frames, \n",
    "    cmap='viridis_r', \n",
    "    marker='o'\n",
    ")\n",
    "\n",
    "# Add color bar to show frame mapping\n",
    "cb = pyplot.colorbar(three_dimension_scatter, ax=three_d_axes, shrink=0.5)\n",
    "cb.set_label('Timestep Frame')\n",
    "\n",
    "# Set titles and labels\n",
    "three_d_axes.set_title('3D Coordinates of Hydrogen Atom 4 During Equilibration')\n",
    "three_d_axes.set_xlabel('x (Å)')\n",
    "three_d_axes.set_ylabel('y (Å)')\n",
    "three_d_axes.set_zlabel('z (Å)')\n",
    "\n",
    "# Show the plot\n",
    "pyplot.show()"
   ]
  },
  {
   "cell_type": "code",
   "execution_count": null,
   "id": "d846dff3-c041-42fe-9700-a1adb9bfe9b6",
   "metadata": {},
   "outputs": [],
   "source": []
  }
 ],
 "metadata": {
  "kernelspec": {
   "display_name": "Python 3 (ipykernel)",
   "language": "python",
   "name": "python3"
  },
  "language_info": {
   "codemirror_mode": {
    "name": "ipython",
    "version": 3
   },
   "file_extension": ".py",
   "mimetype": "text/x-python",
   "name": "python",
   "nbconvert_exporter": "python",
   "pygments_lexer": "ipython3",
   "version": "3.8.19"
  }
 },
 "nbformat": 4,
 "nbformat_minor": 5
}
