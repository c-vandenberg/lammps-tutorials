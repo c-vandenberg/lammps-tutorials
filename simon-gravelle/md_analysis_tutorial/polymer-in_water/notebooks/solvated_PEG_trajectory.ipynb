{
 "cells": [
  {
   "cell_type": "code",
   "execution_count": 1,
   "id": "a543cb92-c304-4506-b317-121e80b9cea8",
   "metadata": {},
   "outputs": [],
   "source": [
    "import MDAnalysis as md_analysis\n",
    "import numpy\n",
    "import matplotlib.pyplot as pyplot\n",
    "from mpl_toolkits.mplot3d import Axes3D"
   ]
  },
  {
   "cell_type": "markdown",
   "id": "f2afe24a-6800-4741-bb43-7e41363887e7",
   "metadata": {},
   "source": [
    "## MDAnalysis Universe Class\n",
    "* The MDAnalysis Universe class contains all the information describing the system.\n",
    "* There are no required constructor arguments, but to generating a universe will generally require a topology file containing atomic information (in this case `./solvated_PEG.data`), and optionally an MD simulation trajactory/coordinate file (in this case `./solvated_PEG_dump.lammpstrj`)\n",
    "* However, some topology files can contain both atomic information **and** coordinate data (e.g. XYZ, PDB, GRO or CRD files)\n",
    "* Additionally, any file you provide you need to add an additional constructor argument for the file format"
   ]
  },
  {
   "cell_type": "code",
   "execution_count": 2,
   "id": "9e0e68c8-4887-4622-a0f7-c2d9be8513ed",
   "metadata": {},
   "outputs": [
    {
     "ename": "TypeError",
     "evalue": "Cannot find an appropriate coordinate reader for file './solvated_PEG_dump.lammpstrj'.\n           Unknown coordinate trajectory format 'LAMMPSTRJ' for './solvated_PEG_dump.lammpstrj'. The FORMATs \n           dict_keys(['CHAIN', 'CHEMFILES', 'CRD', 'DCD', 'CONFIG', 'HISTORY', 'DMS', 'GMS', 'GRO', 'INPCRD', 'RESTRT', 'LAMMPS', 'DATA', 'LAMMPSDUMP', 'MOL2', 'PDB', 'ENT', 'XPDB', 'PDBQT', 'PQR', 'TRJ', 'MDCRD', 'CRDBOX', 'NCDF', 'NC', 'TRR', 'H5MD', 'TRZ', 'XTC', 'XYZ', 'TXYZ', 'ARC', 'MEMORY', 'MMTF', 'GSD', 'COOR', 'NAMDBIN', 'IN', 'FHIAIMS', 'TNG', 'PARMED', 'RDKIT', 'OPENMMSIMULATION', 'OPENMMAPP'])\n           are implemented in MDAnalysis.\n           See https://docs.mdanalysis.org/documentation_pages/coordinates/init.html#id1\n           Use the format keyword to explicitly set the format: 'Universe(...,format=FORMAT)'\n           For missing formats, raise an issue at https://github.com/MDAnalysis/mdanalysis/issues",
     "output_type": "error",
     "traceback": [
      "\u001b[0;31m---------------------------------------------------------------------------\u001b[0m",
      "\u001b[0;31mValueError\u001b[0m                                Traceback (most recent call last)",
      "File \u001b[0;32m~/anaconda3/envs/lammps/lib/python3.8/site-packages/MDAnalysis/core/universe.py:558\u001b[0m, in \u001b[0;36mUniverse.load_new\u001b[0;34m(self, filename, format, in_memory, in_memory_step, **kwargs)\u001b[0m\n\u001b[1;32m    557\u001b[0m \u001b[38;5;28;01mtry\u001b[39;00m:\n\u001b[0;32m--> 558\u001b[0m     reader \u001b[38;5;241m=\u001b[39m \u001b[43mget_reader_for\u001b[49m\u001b[43m(\u001b[49m\u001b[43mfilename\u001b[49m\u001b[43m,\u001b[49m\u001b[43m \u001b[49m\u001b[38;5;28;43mformat\u001b[39;49m\u001b[38;5;241;43m=\u001b[39;49m\u001b[38;5;28;43mformat\u001b[39;49m\u001b[43m)\u001b[49m\n\u001b[1;32m    559\u001b[0m \u001b[38;5;28;01mexcept\u001b[39;00m \u001b[38;5;167;01mValueError\u001b[39;00m \u001b[38;5;28;01mas\u001b[39;00m err:\n",
      "File \u001b[0;32m~/anaconda3/envs/lammps/lib/python3.8/site-packages/MDAnalysis/core/_get_readers.py:107\u001b[0m, in \u001b[0;36mget_reader_for\u001b[0;34m(filename, format)\u001b[0m\n\u001b[1;32m     98\u001b[0m errmsg \u001b[38;5;241m=\u001b[39m (\n\u001b[1;32m     99\u001b[0m     \u001b[38;5;124m\"\u001b[39m\u001b[38;5;124mUnknown coordinate trajectory format \u001b[39m\u001b[38;5;124m'\u001b[39m\u001b[38;5;132;01m{0}\u001b[39;00m\u001b[38;5;124m'\u001b[39m\u001b[38;5;124m for \u001b[39m\u001b[38;5;124m'\u001b[39m\u001b[38;5;132;01m{1}\u001b[39;00m\u001b[38;5;124m'\u001b[39m\u001b[38;5;124m. The FORMATs \u001b[39m\u001b[38;5;130;01m\\n\u001b[39;00m\u001b[38;5;124m\"\u001b[39m\n\u001b[1;32m    100\u001b[0m     \u001b[38;5;124m\"\u001b[39m\u001b[38;5;124m           \u001b[39m\u001b[38;5;132;01m{2}\u001b[39;00m\u001b[38;5;130;01m\\n\u001b[39;00m\u001b[38;5;124m\"\u001b[39m\n\u001b[0;32m   (...)\u001b[0m\n\u001b[1;32m    105\u001b[0m     \u001b[38;5;124m\"\u001b[39m\u001b[38;5;124mhttps://github.com/MDAnalysis/mdanalysis/issues\u001b[39m\u001b[38;5;124m\"\u001b[39m\u001b[38;5;241m.\u001b[39mformat(\n\u001b[1;32m    106\u001b[0m         \u001b[38;5;28mformat\u001b[39m, filename, _READERS\u001b[38;5;241m.\u001b[39mkeys()))\n\u001b[0;32m--> 107\u001b[0m \u001b[38;5;28;01mraise\u001b[39;00m \u001b[38;5;167;01mValueError\u001b[39;00m(errmsg) \u001b[38;5;28;01mfrom\u001b[39;00m \u001b[38;5;28;01mNone\u001b[39;00m\n",
      "\u001b[0;31mValueError\u001b[0m: Unknown coordinate trajectory format 'LAMMPSTRJ' for './solvated_PEG_dump.lammpstrj'. The FORMATs \n           dict_keys(['CHAIN', 'CHEMFILES', 'CRD', 'DCD', 'CONFIG', 'HISTORY', 'DMS', 'GMS', 'GRO', 'INPCRD', 'RESTRT', 'LAMMPS', 'DATA', 'LAMMPSDUMP', 'MOL2', 'PDB', 'ENT', 'XPDB', 'PDBQT', 'PQR', 'TRJ', 'MDCRD', 'CRDBOX', 'NCDF', 'NC', 'TRR', 'H5MD', 'TRZ', 'XTC', 'XYZ', 'TXYZ', 'ARC', 'MEMORY', 'MMTF', 'GSD', 'COOR', 'NAMDBIN', 'IN', 'FHIAIMS', 'TNG', 'PARMED', 'RDKIT', 'OPENMMSIMULATION', 'OPENMMAPP'])\n           are implemented in MDAnalysis.\n           See https://docs.mdanalysis.org/documentation_pages/coordinates/init.html#id1\n           Use the format keyword to explicitly set the format: 'Universe(...,format=FORMAT)'\n           For missing formats, raise an issue at https://github.com/MDAnalysis/mdanalysis/issues",
      "\nDuring handling of the above exception, another exception occurred:\n",
      "\u001b[0;31mTypeError\u001b[0m                                 Traceback (most recent call last)",
      "Cell \u001b[0;32mIn[2], line 1\u001b[0m\n\u001b[0;32m----> 1\u001b[0m md_universe: md_analysis\u001b[38;5;241m.\u001b[39mUniverse \u001b[38;5;241m=\u001b[39m \u001b[43mmd_analysis\u001b[49m\u001b[38;5;241;43m.\u001b[39;49m\u001b[43mUniverse\u001b[49m\u001b[43m(\u001b[49m\n\u001b[1;32m      2\u001b[0m \u001b[43m    \u001b[49m\u001b[38;5;124;43m\"\u001b[39;49m\u001b[38;5;124;43m./solvated_PEG.data\u001b[39;49m\u001b[38;5;124;43m\"\u001b[39;49m\u001b[43m,\u001b[49m\u001b[43m \u001b[49m\n\u001b[1;32m      3\u001b[0m \u001b[43m    \u001b[49m\u001b[38;5;124;43m\"\u001b[39;49m\u001b[38;5;124;43m./solvated_PEG_dump.lammpstrj\u001b[39;49m\u001b[38;5;124;43m\"\u001b[39;49m\u001b[43m,\u001b[49m\u001b[43m \u001b[49m\n\u001b[1;32m      4\u001b[0m \u001b[43m    \u001b[49m\u001b[43mtopology_format\u001b[49m\u001b[43m \u001b[49m\u001b[38;5;241;43m=\u001b[39;49m\u001b[43m \u001b[49m\u001b[38;5;124;43m\"\u001b[39;49m\u001b[38;5;124;43mdata\u001b[39;49m\u001b[38;5;124;43m\"\u001b[39;49m\u001b[43m,\u001b[49m\n\u001b[1;32m      5\u001b[0m \u001b[43m    \u001b[49m\u001b[38;5;28;43mformat\u001b[39;49m\u001b[43m \u001b[49m\u001b[38;5;241;43m=\u001b[39;49m\u001b[43m \u001b[49m\u001b[38;5;124;43m\"\u001b[39;49m\u001b[38;5;124;43mlammpstrj\u001b[39;49m\u001b[38;5;124;43m\"\u001b[39;49m\n\u001b[1;32m      6\u001b[0m \u001b[43m)\u001b[49m\n",
      "File \u001b[0;32m~/anaconda3/envs/lammps/lib/python3.8/site-packages/MDAnalysis/core/universe.py:365\u001b[0m, in \u001b[0;36mUniverse.__init__\u001b[0;34m(self, topology, all_coordinates, format, topology_format, transformations, guess_bonds, vdwradii, in_memory, in_memory_step, *coordinates, **kwargs)\u001b[0m\n\u001b[1;32m    360\u001b[0m coordinates \u001b[38;5;241m=\u001b[39m _resolve_coordinates(\u001b[38;5;28mself\u001b[39m\u001b[38;5;241m.\u001b[39mfilename, \u001b[38;5;241m*\u001b[39mcoordinates,\n\u001b[1;32m    361\u001b[0m                                    \u001b[38;5;28mformat\u001b[39m\u001b[38;5;241m=\u001b[39m\u001b[38;5;28mformat\u001b[39m,\n\u001b[1;32m    362\u001b[0m                                    all_coordinates\u001b[38;5;241m=\u001b[39mall_coordinates)\n\u001b[1;32m    364\u001b[0m \u001b[38;5;28;01mif\u001b[39;00m coordinates:\n\u001b[0;32m--> 365\u001b[0m     \u001b[38;5;28;43mself\u001b[39;49m\u001b[38;5;241;43m.\u001b[39;49m\u001b[43mload_new\u001b[49m\u001b[43m(\u001b[49m\u001b[43mcoordinates\u001b[49m\u001b[43m,\u001b[49m\u001b[43m \u001b[49m\u001b[38;5;28;43mformat\u001b[39;49m\u001b[38;5;241;43m=\u001b[39;49m\u001b[38;5;28;43mformat\u001b[39;49m\u001b[43m,\u001b[49m\u001b[43m \u001b[49m\u001b[43min_memory\u001b[49m\u001b[38;5;241;43m=\u001b[39;49m\u001b[43min_memory\u001b[49m\u001b[43m,\u001b[49m\n\u001b[1;32m    366\u001b[0m \u001b[43m                \u001b[49m\u001b[43min_memory_step\u001b[49m\u001b[38;5;241;43m=\u001b[39;49m\u001b[43min_memory_step\u001b[49m\u001b[43m,\u001b[49m\u001b[43m \u001b[49m\u001b[38;5;241;43m*\u001b[39;49m\u001b[38;5;241;43m*\u001b[39;49m\u001b[43mkwargs\u001b[49m\u001b[43m)\u001b[49m\n\u001b[1;32m    368\u001b[0m \u001b[38;5;28;01mif\u001b[39;00m transformations:\n\u001b[1;32m    369\u001b[0m     \u001b[38;5;28;01mif\u001b[39;00m \u001b[38;5;28mcallable\u001b[39m(transformations):\n",
      "File \u001b[0;32m~/anaconda3/envs/lammps/lib/python3.8/site-packages/MDAnalysis/core/universe.py:560\u001b[0m, in \u001b[0;36mUniverse.load_new\u001b[0;34m(self, filename, format, in_memory, in_memory_step, **kwargs)\u001b[0m\n\u001b[1;32m    558\u001b[0m     reader \u001b[38;5;241m=\u001b[39m get_reader_for(filename, \u001b[38;5;28mformat\u001b[39m\u001b[38;5;241m=\u001b[39m\u001b[38;5;28mformat\u001b[39m)\n\u001b[1;32m    559\u001b[0m \u001b[38;5;28;01mexcept\u001b[39;00m \u001b[38;5;167;01mValueError\u001b[39;00m \u001b[38;5;28;01mas\u001b[39;00m err:\n\u001b[0;32m--> 560\u001b[0m     \u001b[38;5;28;01mraise\u001b[39;00m \u001b[38;5;167;01mTypeError\u001b[39;00m(\n\u001b[1;32m    561\u001b[0m         \u001b[38;5;124m\"\u001b[39m\u001b[38;5;124mCannot find an appropriate coordinate reader for file \u001b[39m\u001b[38;5;124m'\u001b[39m\u001b[38;5;132;01m{0}\u001b[39;00m\u001b[38;5;124m'\u001b[39m\u001b[38;5;124m.\u001b[39m\u001b[38;5;130;01m\\n\u001b[39;00m\u001b[38;5;124m\"\u001b[39m\n\u001b[1;32m    562\u001b[0m         \u001b[38;5;124m\"\u001b[39m\u001b[38;5;124m           \u001b[39m\u001b[38;5;132;01m{1}\u001b[39;00m\u001b[38;5;124m\"\u001b[39m\u001b[38;5;241m.\u001b[39mformat(filename, err))\n\u001b[1;32m    564\u001b[0m \u001b[38;5;66;03m# supply number of atoms for readers that cannot do it for themselves\u001b[39;00m\n\u001b[1;32m    565\u001b[0m kwargs[\u001b[38;5;124m'\u001b[39m\u001b[38;5;124mn_atoms\u001b[39m\u001b[38;5;124m'\u001b[39m] \u001b[38;5;241m=\u001b[39m \u001b[38;5;28mself\u001b[39m\u001b[38;5;241m.\u001b[39matoms\u001b[38;5;241m.\u001b[39mn_atoms\n",
      "\u001b[0;31mTypeError\u001b[0m: Cannot find an appropriate coordinate reader for file './solvated_PEG_dump.lammpstrj'.\n           Unknown coordinate trajectory format 'LAMMPSTRJ' for './solvated_PEG_dump.lammpstrj'. The FORMATs \n           dict_keys(['CHAIN', 'CHEMFILES', 'CRD', 'DCD', 'CONFIG', 'HISTORY', 'DMS', 'GMS', 'GRO', 'INPCRD', 'RESTRT', 'LAMMPS', 'DATA', 'LAMMPSDUMP', 'MOL2', 'PDB', 'ENT', 'XPDB', 'PDBQT', 'PQR', 'TRJ', 'MDCRD', 'CRDBOX', 'NCDF', 'NC', 'TRR', 'H5MD', 'TRZ', 'XTC', 'XYZ', 'TXYZ', 'ARC', 'MEMORY', 'MMTF', 'GSD', 'COOR', 'NAMDBIN', 'IN', 'FHIAIMS', 'TNG', 'PARMED', 'RDKIT', 'OPENMMSIMULATION', 'OPENMMAPP'])\n           are implemented in MDAnalysis.\n           See https://docs.mdanalysis.org/documentation_pages/coordinates/init.html#id1\n           Use the format keyword to explicitly set the format: 'Universe(...,format=FORMAT)'\n           For missing formats, raise an issue at https://github.com/MDAnalysis/mdanalysis/issues"
     ]
    }
   ],
   "source": [
    "md_universe: md_analysis.Universe = md_analysis.Universe(\n",
    "    \"./solvated_PEG.data\", \n",
    "    \"./solvated_PEG_dump.lammpstrj\", \n",
    "    topology_format = \"data\",\n",
    "    format = \"lammpstrj\"\n",
    ")"
   ]
  },
  {
   "cell_type": "markdown",
   "id": "f570ee5f-3c00-4828-9755-424b6b635400",
   "metadata": {},
   "source": [
    "# MD Analysis Universe.select_atoms and AtomGroup Class\n",
    "* The method `Universe.select_atoms` returns an AtomGroup object\n",
    "* The AtomGroup class is essentially an ordered array of atoms, with their order reflecting their order defined in the molecular topology file\n",
    "* It therefore supports looping, indexing & slicing like a standard Python list\n",
    "* Additionally, the class has properties representing coordinates, velocities, masses, charges, atom names, residues etc\n",
    "* It also has methods for calculating properties such as distances, angles, dihedrals, center of mass, as well as methods for atomic transformation & manipulation such as translation, rotation etc"
   ]
  },
  {
   "cell_type": "code",
   "execution_count": null,
   "id": "ae89f5f7-d345-4377-b8ab-c44622ee5be9",
   "metadata": {},
   "outputs": [],
   "source": [
    "peg_molecule = md_universe.select_atoms(\"type 1 2 3 4 5 6 7\")\n",
    "h2o_molecule = md_universe.select_atoms(\"type 8 9\")\n",
    "\n",
    "print(\"Atoms in PEG molecule:\", peg_molecule.atoms.n_atoms)\n",
    "print(\"Atoms in H2O molecule:\", h2o_molecule.atoms.n_atoms)"
   ]
  },
  {
   "cell_type": "code",
   "execution_count": null,
   "id": "c029103f-5eae-4c4e-a271-ff8a195ae619",
   "metadata": {},
   "outputs": [],
   "source": [
    "for atom in peg_molecule[:6]:\n",
    "    atom_id: int = atom.id\n",
    "    atom_type: str = atom.type\n",
    "    atomic_mass: float = atom.mass\n",
    "    atomic_charge: float = numpy.round(atom.charge, 2)\n",
    "    print(\"Atom ID:\", atom_id, \"|\", \n",
    "          \"Atom Type:\", atom_type, \"|\", \n",
    "          \"Atomic Mass:\", atomic_mass, \"g/mol | Atomic Charge:\", atomic_charge, \"e\")"
   ]
  },
  {
   "cell_type": "markdown",
   "id": "d3c98699-8949-426d-b7c4-a562ce85b34c",
   "metadata": {},
   "source": [
    "# Extract Temporal Evolution of Hydrogen Type 4 Atom (First Atom in PEG Group)\n",
    "* We will now extract the position of the first atom of the peg group (i.e. the hydrogen type 4 atom), over all 300 frames, and store its coordinates in each timestep frame into a list\n",
    "* We will then use Matplotlib Pyplot to visualise the x and y coordinates occupied by the hydrogen type 4 atom during the equilibration simulation"
   ]
  },
  {
   "cell_type": "code",
   "execution_count": null,
   "id": "b8a9536c-d6d4-44ac-92bf-83be934a0bd6",
   "metadata": {},
   "outputs": [],
   "source": [
    "hydrogen_atom_4: md_analysis.AtomGroup = peg_molecule[0]\n",
    "position_vs_time: list = []\n",
    "scatter_plot_size: list = []\n",
    "\n",
    "for timestep in md_universe.trajectory:\n",
    "    x, y, z = hydrogen_atom_4.position\n",
    "    position_vs_time.append([timestep.frame, x, y, z])  # ts.frame is the ID of the timestep frame\n",
    "\n",
    "# Extract x and y coordinates\n",
    "timestep_frames: list = [position[0] for position in position_vs_time]\n",
    "x_coordinates: list = [position[1] for position in position_vs_time]\n",
    "y_coordinates: list = [position[2] for position in position_vs_time]\n",
    "z_coordinates: list = [position[3] for position in position_vs_time]\n",
    "\n",
    "# Create graph\n",
    "two_d_figure, two_d_axes = pyplot.subplots(figsize=(10, 6))\n",
    "\n",
    "# Stylise & plot the x and y coordinates using Matplotlib\n",
    "two_d_figure.patch.set_facecolor('black')\n",
    "two_d_axes.set_facecolor('black')\n",
    "two_d_axes.scatter(x_coordinates, y_coordinates, c='cyan', marker='o', alpha=0.6)\n",
    "two_d_axes.set_ylim(12, two_d_axes.get_ylim()[1])\n",
    "\n",
    "pyplot.title('X and Y Coordinates of Hydrogen Atom 4 During Equilibration', color='white')\n",
    "pyplot.xlabel('x (Å)', color='white')\n",
    "pyplot.ylabel('y (Å)', color='white')\n",
    "two_d_axes.tick_params(colors='white', which='both')\n",
    "\n",
    "for spine in two_d_axes.spines.values():\n",
    "    spine.set_edgecolor('white')\n",
    "\n",
    "pyplot.show()"
   ]
  },
  {
   "cell_type": "code",
   "execution_count": null,
   "id": "cc470c6d-da0d-4ff9-93db-1aa89a1d27c1",
   "metadata": {},
   "outputs": [],
   "source": [
    "three_d_figure: pyplot.Figure = pyplot.figure(figsize=(10, 6))\n",
    "three_d_axes: pyplot.Axes = three_d_figure.add_subplot(111, projection='3d')\n",
    "\n",
    "three_dimension_scatter = three_d_axes.scatter(\n",
    "    x_coordinates, \n",
    "    y_coordinates, \n",
    "    z_coordinates, \n",
    "    c=timestep_frames, \n",
    "    cmap='viridis_r', \n",
    "    marker='o'\n",
    ")\n",
    "\n",
    "# Add color bar to show frame mapping\n",
    "cb = pyplot.colorbar(three_dimension_scatter, ax=three_d_axes, shrink=0.5)\n",
    "cb.set_label('Timestep Frame')\n",
    "\n",
    "# Set titles and labels\n",
    "three_d_axes.set_title('3D Coordinates of Hydrogen Atom 4 During Equilibration')\n",
    "three_d_axes.set_xlabel('x (Å)')\n",
    "three_d_axes.set_ylabel('y (Å)')\n",
    "three_d_axes.set_zlabel('z (Å)')\n",
    "\n",
    "# Show the plot\n",
    "pyplot.show()"
   ]
  },
  {
   "cell_type": "code",
   "execution_count": null,
   "id": "d846dff3-c041-42fe-9700-a1adb9bfe9b6",
   "metadata": {},
   "outputs": [],
   "source": []
  }
 ],
 "metadata": {
  "kernelspec": {
   "display_name": "Python 3 (ipykernel)",
   "language": "python",
   "name": "python3"
  },
  "language_info": {
   "codemirror_mode": {
    "name": "ipython",
    "version": 3
   },
   "file_extension": ".py",
   "mimetype": "text/x-python",
   "name": "python",
   "nbconvert_exporter": "python",
   "pygments_lexer": "ipython3",
   "version": "3.8.19"
  }
 },
 "nbformat": 4,
 "nbformat_minor": 5
}
